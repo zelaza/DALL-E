{
  "nbformat": 4,
  "nbformat_minor": 0,
  "metadata": {
    "colab": {
      "name": "Copy of arcanestyletransfer.ipynb",
      "provenance": [],
      "include_colab_link": true
    },
    "kernelspec": {
      "name": "python3",
      "display_name": "Python 3"
    },
    "language_info": {
      "name": "python"
    },
    "accelerator": "GPU"
  },
  "cells": [
    {
      "cell_type": "markdown",
      "metadata": {
        "id": "view-in-github",
        "colab_type": "text"
      },
      "source": [
        "<a href=\"https://colab.research.google.com/github/zelaza/DALL-E/blob/master/Copy_of_arcanestyletransfer.ipynb\" target=\"_parent\"><img src=\"https://colab.research.google.com/assets/colab-badge.svg\" alt=\"Open In Colab\"/></a>"
      ]
    },
    {
      "cell_type": "code",
      "execution_count": null,
      "metadata": {
        "id": "90crcxzSdiWk"
      },
      "outputs": [],
      "source": [
        "!git clone https://huggingface.co/spaces/jjeamin/ArcaneStyleTransfer"
      ]
    },
    {
      "cell_type": "code",
      "source": [
        "cd ArcaneStyleTransfer"
      ],
      "metadata": {
        "id": "N1CHAx1Gdn5z"
      },
      "execution_count": null,
      "outputs": []
    },
    {
      "cell_type": "code",
      "source": [
        "!pip install -r requirements.txt"
      ],
      "metadata": {
        "id": "6OO1MHiCdp6J"
      },
      "execution_count": null,
      "outputs": []
    },
    {
      "cell_type": "code",
      "source": [
        "!pip install gradio"
      ],
      "metadata": {
        "id": "Bzv_N_JEd0sr"
      },
      "execution_count": null,
      "outputs": []
    },
    {
      "cell_type": "code",
      "source": [
        "!pip install huggingface_hub"
      ],
      "metadata": {
        "id": "AeIwGo5ed63M"
      },
      "execution_count": null,
      "outputs": []
    },
    {
      "cell_type": "code",
      "source": [
        "import os\n",
        "os.system(\"pip freeze\")\n",
        "\n",
        "import torch, PIL\n",
        "import gradio as gr\n",
        "import torch\n",
        "from utils import align_face\n",
        "from torchvision import transforms\n",
        "from huggingface_hub import hf_hub_download\n",
        "\n",
        "device = \"cuda:0\" if torch.cuda.is_available() else \"cpu\"\n",
        "\n",
        "image_size = 512\n",
        "transform_size = 1024\n",
        "\n",
        "means = [0.5, 0.5, 0.5]\n",
        "stds = [0.5, 0.5, 0.5]\n",
        "\n",
        "img_transforms = transforms.Compose([\n",
        "            transforms.ToTensor(),\n",
        "            transforms.Normalize(means, stds)])\n",
        " \n",
        "model_path = hf_hub_download(repo_id=\"jjeamin/ArcaneStyleTransfer\", filename=\"pytorch_model.bin\")\n",
        "\n",
        "if 'cuda' in device:\n",
        "    style_transfer = torch.jit.load(model_path).eval().cuda().half()\n",
        "    t_stds = torch.tensor(stds).cuda().half()[:,None,None]\n",
        "    t_means = torch.tensor(means).cuda().half()[:,None,None]\n",
        "else:\n",
        "    style_transfer = torch.jit.load(model_path).eval().cpu()\n",
        "    t_stds = torch.tensor(stds).cpu()[:,None,None]\n",
        "    t_means = torch.tensor(means).cpu()[:,None,None]\n",
        "\n",
        "def tensor2im(var):\n",
        "     return var.mul(t_stds).add(t_means).mul(255.).clamp(0,255).permute(1,2,0)\n",
        "\n",
        "def proc_pil_img(input_image):\n",
        "    if 'cuda' in device: \n",
        "        transformed_image = img_transforms(input_image)[None,...].cuda().half()\n",
        "    else:\n",
        "        transformed_image = img_transforms(input_image)[None,...].cpu()\n",
        "            \n",
        "    with torch.no_grad():\n",
        "        result_image = style_transfer(transformed_image)[0]\n",
        "        output_image = tensor2im(result_image)\n",
        "        output_image = output_image.detach().cpu().numpy().astype('uint8')\n",
        "        output_image = PIL.Image.fromarray(output_image)\n",
        "    return output_image\n",
        "\n",
        "def process(im):\n",
        "   # im = align_face(im, output_size=image_size, transform_size=transform_size)\n",
        "    res = proc_pil_img(im)\n",
        "    return res\n",
        "        \n",
        "gr.Interface(\n",
        "    process, \n",
        "    inputs=gr.inputs.Image(type=\"pil\", label=\"Input\", shape=(image_size, image_size)),\n",
        "    outputs=gr.outputs.Image(type=\"pil\", label=\"Output\"),\n",
        "    title=\"Arcane Style Transfer\",\n",
        "    description=\"Gradio demo for Arcane Style Transfer\",\n",
        "    article = \"<p style='text-align: center'><a href='https://github.com/jjeamin/anime_style_transfer_pytorch' target='_blank'>Github Repo by jjeamin</a></p> <center><img src='https://visitor-badge.glitch.me/badge?page_id=jjeamin_arcane_st' alt='visitor badge'></center></p>\",\n",
        "    examples=[['billie.png'], ['gongyoo.jpeg'], ['IU.png'], ['elon.png']],\n",
        "    enable_queue=True,\n",
        "    allow_flagging=False,\n",
        "    allow_screenshot=False\n",
        "    ).launch(enable_queue=True,cache_examples=True)"
      ],
      "metadata": {
        "id": "mNcsIEzzdrWG"
      },
      "execution_count": null,
      "outputs": []
    },
    {
      "cell_type": "code",
      "source": [
        ""
      ],
      "metadata": {
        "id": "-6aLMeHJdytJ"
      },
      "execution_count": null,
      "outputs": []
    }
  ]
}