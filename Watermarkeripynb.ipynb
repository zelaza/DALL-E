{
  "nbformat": 4,
  "nbformat_minor": 0,
  "metadata": {
    "colab": {
      "name": "Watermarkeripynb",
      "provenance": [],
      "collapsed_sections": [],
      "include_colab_link": true
    },
    "kernelspec": {
      "name": "python3",
      "display_name": "Python 3"
    },
    "language_info": {
      "name": "python"
    }
  },
  "cells": [
    {
      "cell_type": "markdown",
      "metadata": {
        "id": "view-in-github",
        "colab_type": "text"
      },
      "source": [
        "<a href=\"https://colab.research.google.com/github/zelaza/DALL-E/blob/master/Watermarkeripynb.ipynb\" target=\"_parent\"><img src=\"https://colab.research.google.com/assets/colab-badge.svg\" alt=\"Open In Colab\"/></a>"
      ]
    },
    {
      "cell_type": "markdown",
      "source": [
        "#**INSTRUCTIONS**\n",
        "\n",
        "1) Upload File to Folder Directory (press folder icon in left menu, then upload image)\n",
        "\n",
        "2) Hover over uploaded file, press 3 vertical dots, copy path and paste in Path Variable below\n",
        "\n",
        "3) Run Code Blocks 1 and 2 with the right parameters!"
      ],
      "metadata": {
        "id": "0YJwhVTLsns8"
      }
    },
    {
      "cell_type": "code",
      "source": [
        "# @markdown # 1) Download Required Packages for Watermarker ❗\n",
        "!curl -L -o fonts.zip -C - https://www.fontsquirrel.com/fonts/download/open-sans\n",
        "!unzip fonts.zip -d fonts"
      ],
      "metadata": {
        "cellView": "form",
        "id": "dh0-_0Wgv1uq"
      },
      "execution_count": null,
      "outputs": []
    },
    {
      "cell_type": "code",
      "execution_count": null,
      "metadata": {
        "colab": {
          "base_uri": "https://localhost:8080/"
        },
        "cellView": "form",
        "id": "Biw6oY4esjJh",
        "outputId": "59451ad6-e58a-4503-a334-91a6bbf031d2"
      },
      "outputs": [
        {
          "output_type": "stream",
          "name": "stdout",
          "text": [
            "Watermark added to result.png\n"
          ]
        }
      ],
      "source": [
        "# @markdown # 2) Run The WaterMarker \n",
        "\n",
        "path = \"/content/progress (8).png\" #@param {type:\"string\"}\n",
        "watermark = \"@0x_qubit\" #@param {type:\"string\"}\n",
        "# font = ImageFont.truetype( 70)\n",
        "from PIL import ImageFont, ImageDraw, Image\n",
        "import numpy as np\n",
        "import cv2\n",
        "\n",
        "image = cv2.imread(path)\n",
        "\n",
        "# Convert to PIL Image\n",
        "cv2_im_rgb = cv2.cvtColor(image, cv2.COLOR_BGR2RGB)\n",
        "pil_im = Image.fromarray(cv2_im_rgb)\n",
        "\n",
        "draw = ImageDraw.Draw(pil_im)\n",
        "\n",
        "# Choose a font\n",
        "font = ImageFont.truetype(\"fonts/OpenSans-Bold.ttf\", 40)\n",
        "\n",
        "# Draw the text\n",
        "draw.text((0, 0), watermark, font=font)\n",
        "\n",
        "# Save the image\n",
        "cv2_im_processed = cv2.cvtColor(np.array(pil_im), cv2.COLOR_RGB2BGR)\n",
        "cv2.imwrite(\"result.png\", cv2_im_processed)\n",
        "print(\"Watermark added to result.png\")"
      ]
    }
  ]
}